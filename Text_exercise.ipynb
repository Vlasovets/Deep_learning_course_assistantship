{
  "nbformat": 4,
  "nbformat_minor": 0,
  "metadata": {
    "colab": {
      "name": "Text_exercise.ipynb",
      "provenance": [],
      "include_colab_link": true
    },
    "kernelspec": {
      "name": "python3",
      "display_name": "Python 3"
    },
    "accelerator": "TPU"
  },
  "cells": [
    {
      "cell_type": "markdown",
      "metadata": {
        "id": "view-in-github",
        "colab_type": "text"
      },
      "source": [
        "<a href=\"https://colab.research.google.com/github/Vlasovets/Deep_learning_course_assistantship/blob/master/Text_exercise.ipynb\" target=\"_parent\"><img src=\"https://colab.research.google.com/assets/colab-badge.svg\" alt=\"Open In Colab\"/></a>"
      ]
    },
    {
      "cell_type": "markdown",
      "metadata": {
        "id": "iCnmKyfA2OPC",
        "colab_type": "text"
      },
      "source": [
        "# Advanced topics in User Interfaces"
      ]
    },
    {
      "cell_type": "markdown",
      "metadata": {
        "id": "lz1h1jNT2Tkz",
        "colab_type": "text"
      },
      "source": [
        "## 🧐 **Learning goals** \n",
        "The tutorial covers the topics explained during the lecture in the following parts:\n",
        "1.   to continue with sequence classification with RNNs\n",
        "2.   to get introduced with one-hot encoding\n",
        "3.   to train and test models on the given sample of text\n",
        "4.   to work with different parameters of the model"
      ]
    },
    {
      "cell_type": "markdown",
      "metadata": {
        "id": "KcwEOK6G3Hey",
        "colab_type": "text"
      },
      "source": [
        "## 🔑1. Introduction"
      ]
    },
    {
      "cell_type": "markdown",
      "metadata": {
        "id": "OGYfBh7Z3JRC",
        "colab_type": "text"
      },
      "source": [
        "### 📚 Text classification\n",
        "\n",
        "The chapter of [Animal Farm](https://en.wikipedia.org/wiki/Animal_Farm) by George Orwell is provided for this exercise. \n",
        "\n",
        "We would like to build a model able to reproduce the text likely to the given dataset.\n"
      ]
    },
    {
      "cell_type": "code",
      "metadata": {
        "id": "cgymhy4-63QX",
        "colab_type": "code",
        "colab": {
          "base_uri": "https://localhost:8080/",
          "height": 324
        },
        "outputId": "e93c5b7e-73ee-478e-f899-a652f85ea3b0"
      },
      "source": [
        "from IPython.display import HTML\n",
        "HTML('<img src=\"https://media.giphy.com/media/Aw0kXVxZDbkTC/giphy.gif\">')"
      ],
      "execution_count": 9,
      "outputs": [
        {
          "output_type": "execute_result",
          "data": {
            "text/html": [
              "<img src=\"https://media.giphy.com/media/Aw0kXVxZDbkTC/giphy.gif\">"
            ],
            "text/plain": [
              "<IPython.core.display.HTML object>"
            ]
          },
          "metadata": {
            "tags": []
          },
          "execution_count": 9
        }
      ]
    },
    {
      "cell_type": "markdown",
      "metadata": {
        "id": "1Q0SPnon61Ae",
        "colab_type": "text"
      },
      "source": [
        "🥒\n",
        "[Pickle](https://docs.python.org/3/library/pickle.html) is used for serializing and de-serializing a Python object structure. Any object in python can be 'pickled' so that it can be saved on disk. What pickle does is that it serializes the object first before writing it to file. Pickling is a way to convert a python object (list, dict, etc.) into a character stream. The idea is that this character stream contains all the information necessary to reconstruct the object in another python script.\n",
        "\n",
        "<font color=orange>Advantages</font> of using Pickle Module: \n",
        "\n",
        "* Recursive objects (objects containing references to themselves): Pickle keeps track of the objects it has already serialized, so later references to the same object won’t be serialized again.\n",
        "\n",
        "* Object sharing (references to the same object in different places): pickle stores the object once, and ensures that all other references point to the master copy. Shared objects remain shared, which can be very important for mutable objects.\n",
        "\n",
        "* User-defined classes and their instances: pickle can save and restore class instances transparently. The class definition must be importable and live in the same module as when the object was stored."
      ]
    },
    {
      "cell_type": "markdown",
      "metadata": {
        "id": "1HTHRg0lASPH",
        "colab_type": "text"
      },
      "source": [
        "🌶️ Some hot models we are going to use today:\n",
        "\n",
        "* In Keras, you assemble layers to build models. A model is (usually) a graph of layers. The most common type of model is a stack of layers: the tf.keras.<font color=lightblue>Sequential</font> model which we have already seen in the previous exercise, but you can refresh your memory [here](https://www.tensorflow.org/api_docs/python/tf/keras/Sequential).\n",
        "\n",
        "* From the lecture we remember that <font color=pink>LSTM</font> is a special recurrent neural network which is explicitly designed to avoid the long-term dependency problem. Remembering information for long periods of time is practically their default behavior, not something they struggle to learn! Do not forget to check this [link](https://colah.github.io/posts/2015-08-Understanding-LSTMs/) if you want more LSTMs in your life.\n",
        "\n",
        "* The name <font color=yellow>Dense</font> suggests that layers are fully connected by the neurons in a network layer. Each neuron in a layer receives input from all the neurons present in the previous layer—thus, they’re densely connected.\n",
        "In other words, the dense layer is a fully connected layer, meaning all the neurons in a layer are connected to those in the next layer. More information can be found [here](https://www.tensorflow.org/api_docs/python/tf/keras/layers/Dense).\n",
        "\n"
      ]
    },
    {
      "cell_type": "code",
      "metadata": {
        "id": "zoyd40sd6avp",
        "colab_type": "code",
        "colab": {}
      },
      "source": [
        "#!/usr/bin/env python\n",
        "# coding: utf-8\n",
        "\n",
        "import numpy as np\n",
        "import pickle\n",
        "from tensorflow.python.keras.models import Sequential\n",
        "from tensorflow.python.keras.layers import Dense, LSTM"
      ],
      "execution_count": 0,
      "outputs": []
    },
    {
      "cell_type": "markdown",
      "metadata": {
        "id": "7awWZSZwGdy8",
        "colab_type": "text"
      },
      "source": [
        "## 🔨 2. Data preparation\n",
        "\n",
        "There are several steps we have to follow before the actual training of our model:\n",
        "\n",
        "* Split the text by chunks of words.\n",
        "\n",
        "We would like to remove all unnecessary symbols from the text and work only with separate words. \n",
        "* Encode the words from categorical to numerical variables.\n",
        "\n",
        "The machine cannot understand words and therefore it needs numerical values so as to make it easier for the machine to process the data. To apply any type of algorithm to the data, we need to convert the categorical data to numbers. To achieve this, one hot ending is one way as it converts categorical variables into binary vectors."
      ]
    },
    {
      "cell_type": "code",
      "metadata": {
        "id": "1m5CnLn3K6tD",
        "colab_type": "code",
        "colab": {
          "base_uri": "https://localhost:8080/",
          "height": 221
        },
        "outputId": "2f65998d-549e-416c-aab2-7a70d4942586"
      },
      "source": [
        "from IPython.display import Image\n",
        "from IPython.core.display import HTML \n",
        "Image(url= \"https://miro.medium.com/max/2736/0*T5jaa2othYfXZX9W.\", width=700, height=200)"
      ],
      "execution_count": 16,
      "outputs": [
        {
          "output_type": "execute_result",
          "data": {
            "text/html": [
              "<img src=\"https://miro.medium.com/max/2736/0*T5jaa2othYfXZX9W.\" width=\"700\" height=\"200\"/>"
            ],
            "text/plain": [
              "<IPython.core.display.Image object>"
            ]
          },
          "metadata": {
            "tags": []
          },
          "execution_count": 16
        }
      ]
    },
    {
      "cell_type": "markdown",
      "metadata": {
        "id": "-lG6K4e4L08w",
        "colab_type": "text"
      },
      "source": [
        "## ⚡3. Model Training\n",
        "\n",
        "\n",
        "Softmax function, a wonderful activation function that turns numbers into probabilities that sum to one. Softmax function outputs a vector that represents the probability distributions of a list of potential outcomes.\n",
        "\n",
        "Here, we use *optimizer='rmsprop'*, but you can try [more](https://keras.io/optimizers/#rmsprop) and compare the results to get additional points.\n",
        "\n",
        "Chosen loss function ([categorical crossentropy](https://keras.io/losses/)) and the type of metrics ([accuracy](https://en.wikipedia.org/wiki/Precision_and_recall)) have been discussed in previous exercises, the links are provided in case you would like to refresh those lessons.\n",
        "\n"
      ]
    },
    {
      "cell_type": "markdown",
      "metadata": {
        "id": "liUMSokeSwF6",
        "colab_type": "text"
      },
      "source": [
        "Here, you will find a video explanation of LSTM since this model can tricky to understand. The video is a little bit long (26 mins), so it is not mandatory to watch it fully if you feel confident with LSTM."
      ]
    },
    {
      "cell_type": "code",
      "metadata": {
        "id": "YmCH-nkSR58o",
        "colab_type": "code",
        "colab": {
          "base_uri": "https://localhost:8080/",
          "height": 321
        },
        "outputId": "035f09be-6e9f-416d-b2f2-bbbd0ebdfcac"
      },
      "source": [
        "from IPython.display import YouTubeVideo\n",
        "YouTubeVideo('WCUNPb-5EYI')"
      ],
      "execution_count": 15,
      "outputs": [
        {
          "output_type": "execute_result",
          "data": {
            "text/html": [
              "\n",
              "        <iframe\n",
              "            width=\"400\"\n",
              "            height=\"300\"\n",
              "            src=\"https://www.youtube.com/embed/WCUNPb-5EYI\"\n",
              "            frameborder=\"0\"\n",
              "            allowfullscreen\n",
              "        ></iframe>\n",
              "        "
            ],
            "text/plain": [
              "<IPython.lib.display.YouTubeVideo at 0x7f2cc1344320>"
            ],
            "image/jpeg": "[encoded data removed]"
          },
          "metadata": {
            "tags": []
          },
          "execution_count": 15
        }
      ]
    },
    {
      "cell_type": "code",
      "metadata": {
        "id": "WaNLoMq2hTpS",
        "colab_type": "code",
        "colab": {
          "base_uri": "https://localhost:8080/",
          "height": 826
        },
        "outputId": "e9a30f3a-3831-4fb7-b6d2-7ffcbde76360"
      },
      "source": [
        "# Define a fixed sequence length for training.\n",
        "SEQUENCE_LENGTH = 40\n",
        "\n",
        "if __name__ == '__main__':\n",
        "    # The saved model file will be named like the dataset file.\n",
        "    dataset_file = 'animal-farm.txt'\n",
        "    # Do some text preprocessing.\n",
        "    text_source = open(dataset_file).read().lower().replace('\\n', ' ')\n",
        "    text_source = ' '.join(text_source.split())\n",
        "\n",
        "    # Create vocabulary. We need to look up chars by index and vice versa.\n",
        "    chars = sorted(list(set(text_source)))\n",
        "    char_indices = dict((c, i) for i, c in enumerate(chars))\n",
        "\n",
        "    # Create text chunks and their expected prediction.\n",
        "    sentences = []\n",
        "    char_step = 3\n",
        "    next_char = []\n",
        "    for i in range(0, len(text_source) - SEQUENCE_LENGTH, char_step):\n",
        "        sentences.append(text_source[i: i + SEQUENCE_LENGTH])\n",
        "        next_char.append(text_source[i + SEQUENCE_LENGTH])\n",
        "\n",
        "    # Create 1-hot encoded training data.\n",
        "    X = np.zeros((len(sentences), SEQUENCE_LENGTH, len(chars)), dtype=np.bool)\n",
        "    y = np.zeros((len(sentences), len(chars)), dtype=np.bool)\n",
        "    for i, sentence in enumerate(sentences):\n",
        "        for t, char in enumerate(sentence):\n",
        "            X[i, t, char_indices[char]] = 1\n",
        "        y[i, char_indices[next_char[i]]] = 1\n",
        "\n",
        "    # Define the model.\n",
        "    model = Sequential()\n",
        "    model.add(LSTM(SEQUENCE_LENGTH, input_shape=(SEQUENCE_LENGTH, len(chars))))\n",
        "    model.add(Dense(len(chars), activation='softmax'))\n",
        "    model.compile(loss='categorical_crossentropy', optimizer='rmsprop', metrics=['accuracy'])\n",
        "\n",
        "    # Train and save the model.\n",
        "    model.fit(X, y, validation_split=0.2, batch_size=128, epochs=20)\n",
        "    model.save('{}.h5'.format(dataset_file))\n",
        "    # Save also the vocabulary used to train the model.\n",
        "    with open('{}.voc'.format(dataset_file), 'wb') as f:\n",
        "        pickle.dump(chars, f, protocol=2)"
      ],
      "execution_count": 2,
      "outputs": [
        {
          "output_type": "stream",
          "text": [
            "WARNING:tensorflow:From /usr/local/lib/python3.6/dist-packages/tensorflow_core/python/ops/resource_variable_ops.py:1630: calling BaseResourceVariable.__init__ (from tensorflow.python.ops.resource_variable_ops) with constraint is deprecated and will be removed in a future version.\n",
            "Instructions for updating:\n",
            "If using Keras pass *_constraint arguments to layers.\n",
            "WARNING:tensorflow:From /usr/local/lib/python3.6/dist-packages/tensorflow_core/python/ops/math_grad.py:1424: where (from tensorflow.python.ops.array_ops) is deprecated and will be removed in a future version.\n",
            "Instructions for updating:\n",
            "Use tf.where in 2.0, which has the same broadcast rule as np.where\n",
            "Train on 45129 samples, validate on 11283 samples\n",
            "Epoch 1/20\n",
            "45129/45129 [==============================] - 16s 360us/sample - loss: 2.9284 - acc: 0.1800 - val_loss: 2.8064 - val_acc: 0.2357\n",
            "Epoch 2/20\n",
            "45129/45129 [==============================] - 16s 344us/sample - loss: 2.6527 - acc: 0.2715 - val_loss: 2.5235 - val_acc: 0.3157\n",
            "Epoch 3/20\n",
            "45129/45129 [==============================] - 15s 340us/sample - loss: 2.4280 - acc: 0.3262 - val_loss: 2.3604 - val_acc: 0.3338\n",
            "Epoch 4/20\n",
            "45129/45129 [==============================] - 16s 344us/sample - loss: 2.3148 - acc: 0.3386 - val_loss: 2.2760 - val_acc: 0.3508\n",
            "Epoch 5/20\n",
            "45129/45129 [==============================] - 16s 349us/sample - loss: 2.2463 - acc: 0.3553 - val_loss: 2.2168 - val_acc: 0.3684\n",
            "Epoch 6/20\n",
            "45129/45129 [==============================] - 16s 349us/sample - loss: 2.1950 - acc: 0.3684 - val_loss: 2.1703 - val_acc: 0.3780\n",
            "Epoch 7/20\n",
            "45129/45129 [==============================] - 16s 344us/sample - loss: 2.1523 - acc: 0.3816 - val_loss: 2.1369 - val_acc: 0.3855\n",
            "Epoch 8/20\n",
            "45129/45129 [==============================] - 15s 339us/sample - loss: 2.1149 - acc: 0.3931 - val_loss: 2.0968 - val_acc: 0.4001\n",
            "Epoch 9/20\n",
            "45129/45129 [==============================] - 16s 351us/sample - loss: 2.0811 - acc: 0.4013 - val_loss: 2.0680 - val_acc: 0.4046\n",
            "Epoch 10/20\n",
            "45129/45129 [==============================] - 16s 345us/sample - loss: 2.0505 - acc: 0.4091 - val_loss: 2.0515 - val_acc: 0.4106\n",
            "Epoch 11/20\n",
            "45129/45129 [==============================] - 15s 342us/sample - loss: 2.0224 - acc: 0.4163 - val_loss: 2.0159 - val_acc: 0.4190\n",
            "Epoch 12/20\n",
            "45129/45129 [==============================] - 16s 346us/sample - loss: 1.9966 - acc: 0.4254 - val_loss: 1.9941 - val_acc: 0.4262\n",
            "Epoch 13/20\n",
            "45129/45129 [==============================] - 16s 345us/sample - loss: 1.9721 - acc: 0.4300 - val_loss: 1.9773 - val_acc: 0.4294\n",
            "Epoch 14/20\n",
            "45129/45129 [==============================] - 16s 348us/sample - loss: 1.9503 - acc: 0.4365 - val_loss: 1.9544 - val_acc: 0.4397\n",
            "Epoch 15/20\n",
            "45129/45129 [==============================] - 16s 347us/sample - loss: 1.9300 - acc: 0.4434 - val_loss: 1.9401 - val_acc: 0.4420\n",
            "Epoch 16/20\n",
            "45129/45129 [==============================] - 16s 346us/sample - loss: 1.9109 - acc: 0.4498 - val_loss: 1.9196 - val_acc: 0.4478\n",
            "Epoch 17/20\n",
            "45129/45129 [==============================] - 16s 344us/sample - loss: 1.8936 - acc: 0.4543 - val_loss: 1.9075 - val_acc: 0.4480\n",
            "Epoch 18/20\n",
            "45129/45129 [==============================] - 16s 348us/sample - loss: 1.8769 - acc: 0.4590 - val_loss: 1.8903 - val_acc: 0.4557\n",
            "Epoch 19/20\n",
            "45129/45129 [==============================] - 16s 346us/sample - loss: 1.8605 - acc: 0.4630 - val_loss: 1.8824 - val_acc: 0.4564\n",
            "Epoch 20/20\n",
            "45129/45129 [==============================] - 16s 344us/sample - loss: 1.8464 - acc: 0.4663 - val_loss: 1.8705 - val_acc: 0.4604\n"
          ],
          "name": "stdout"
        }
      ]
    },
    {
      "cell_type": "markdown",
      "metadata": {
        "id": "U46JhaFjU0yG",
        "colab_type": "text"
      },
      "source": [
        "## 💎 4. Model testing"
      ]
    },
    {
      "cell_type": "markdown",
      "metadata": {
        "id": "3b1TbKYZOfLy",
        "colab_type": "text"
      },
      "source": [
        "The heapq implements a min-heap sort algorithm suitable for use with Python’s lists. \n",
        "\n",
        "A <font color=brown>heap</font>  is a tree-like data structure where the child nodes have a sort-order relationship with the parents. Binary heaps can be represented using a list or array organized so that the children of element N are at positions 2*N+1 and 2*N+2 (for zero-based indexes). This layout makes it possible to rearrange heaps in place, so it is not necessary to reallocate as much memory when adding or removing items. \n",
        "\n",
        "\n",
        "More information on heapq library can be found [here](https://docs.python.org/2/library/heapq.html).\n",
        "\n",
        "The commented lines 7,8 are necessary if you want to test your model in a separate file."
      ]
    },
    {
      "cell_type": "code",
      "metadata": {
        "id": "rfSz5ClMUbtk",
        "colab_type": "code",
        "colab": {}
      },
      "source": [
        "#!/usr/bin/env python\n",
        "# coding: utf-8\n",
        "\n",
        "import numpy as np\n",
        "import pickle\n",
        "import heapq\n",
        "# from tensorflow.python.keras.models import load_model\n",
        "# from text_train import SEQUENCE_LENGTH"
      ],
      "execution_count": 0,
      "outputs": []
    },
    {
      "cell_type": "markdown",
      "metadata": {
        "id": "ow_k7YLUcLzj",
        "colab_type": "text"
      },
      "source": [
        "Create dictionaries for characters and the model."
      ]
    },
    {
      "cell_type": "code",
      "metadata": {
        "id": "o10pPOiMUiVI",
        "colab_type": "code",
        "colab": {}
      },
      "source": [
        "MODEL = None\n",
        "CHARS = None\n",
        "char_indices, indices_char = {}, {}"
      ],
      "execution_count": 0,
      "outputs": []
    },
    {
      "cell_type": "markdown",
      "metadata": {
        "id": "UZ-wlY1Pci82",
        "colab_type": "text"
      },
      "source": [
        "One-hot encoding of the test sample of the text."
      ]
    },
    {
      "cell_type": "code",
      "metadata": {
        "id": "871ar10nUibM",
        "colab_type": "code",
        "colab": {}
      },
      "source": [
        "def encode_input(text):\n",
        "    x = np.zeros((1, SEQUENCE_LENGTH, len(CHARS)))\n",
        "    for t, char in enumerate(text.lower()):\n",
        "        x[0, t, char_indices[char]] = 1\n",
        "    return x"
      ],
      "execution_count": 0,
      "outputs": []
    },
    {
      "cell_type": "markdown",
      "metadata": {
        "id": "G-9xAlxrcrTg",
        "colab_type": "text"
      },
      "source": [
        "Take elements which occures the most often in the observed data."
      ]
    },
    {
      "cell_type": "code",
      "metadata": {
        "id": "0KfvFIw2Uikf",
        "colab_type": "code",
        "colab": {}
      },
      "source": [
        "def sample(preds, top_n=1):\n",
        "    preds = np.asarray(preds)\n",
        "    # Extract the top_n elements with highest probability.\n",
        "    return list(heapq.nlargest(top_n, range(len(preds)), preds.take))"
      ],
      "execution_count": 0,
      "outputs": []
    },
    {
      "cell_type": "markdown",
      "metadata": {
        "id": "GO654d-7Y7CH",
        "colab_type": "text"
      },
      "source": [
        "We would like to predict the extension of the sentence until we meet a space.\n",
        "\n",
        "🤔 You are encouraged to try different stops and see how the made-up text looks like. Do your results make sense?"
      ]
    },
    {
      "cell_type": "code",
      "metadata": {
        "id": "_0A3fDp9Uii5",
        "colab_type": "code",
        "colab": {}
      },
      "source": [
        "def predict_completion(text):\n",
        "    completion = ''\n",
        "    while True:\n",
        "        x = encode_input(text)\n",
        "        preds = MODEL.predict(x).flatten()\n",
        "        next_index = sample(preds).pop()\n",
        "        next_char = indices_char[next_index]\n",
        "        completion += next_char\n",
        "        # Keep predicting until the end token.\n",
        "        if next_char == ' ':\n",
        "            return completion\n",
        "        # Update source text.\n",
        "        text = text[1:] + next_char"
      ],
      "execution_count": 0,
      "outputs": []
    },
    {
      "cell_type": "markdown",
      "metadata": {
        "id": "dWo8XDC0dbVr",
        "colab_type": "text"
      },
      "source": [
        "Transforming numeric representation 🔙 back to words using saved indexes of the characters."
      ]
    },
    {
      "cell_type": "code",
      "metadata": {
        "id": "W4ihjbsBUihD",
        "colab_type": "code",
        "colab": {}
      },
      "source": [
        "def predict_completions(text, n_completions=3):\n",
        "    x = encode_input(text)\n",
        "    preds = MODEL.predict(x).flatten()\n",
        "    next_indices = sample(preds, n_completions)\n",
        "    return [indices_char[idx] + predict_completion(text[1:] + indices_char[idx]) for idx in next_indices]"
      ],
      "execution_count": 0,
      "outputs": []
    },
    {
      "cell_type": "markdown",
      "metadata": {
        "id": "fv24j1KCdsOw",
        "colab_type": "text"
      },
      "source": [
        " 👑Resulting text prediction is here!"
      ]
    },
    {
      "cell_type": "code",
      "metadata": {
        "id": "094bw-xhkMU-",
        "colab_type": "code",
        "colab": {
          "base_uri": "https://localhost:8080/",
          "height": 118
        },
        "outputId": "64b90603-bc28-4337-bca3-88c165e515f8"
      },
      "source": [
        "if __name__ == '__main__':\n",
        "    dataset_file = 'animal-farm.txt'\n",
        "\n",
        "    MODEL = load_model('{}.h5'.format(dataset_file))\n",
        "    with open('{}.voc'.format(dataset_file), 'rb') as f:\n",
        "        CHARS = pickle.load(f)\n",
        "\n",
        "    char_indices = dict((c, i) for i, c in enumerate(CHARS))\n",
        "    indices_char = dict((i, c) for i, c in enumerate(CHARS))\n",
        "\n",
        "    # Our input sentences must have the same length used in training.\n",
        "    seq = \"One day, Julia secretly hands Winston a note confessing her love for him\"\n",
        "    seq = seq[0:SEQUENCE_LENGTH]\n",
        "\n",
        "    completions = predict_completions(seq, n_completions=4)\n",
        "    print(seq)\n",
        "    print('---')\n",
        "    for suggestion in completions:\n",
        "        print(seq + suggestion)"
      ],
      "execution_count": 20,
      "outputs": [
        {
          "output_type": "stream",
          "text": [
            "One day, Julia secretly hands Winston a \n",
            "---\n",
            "One day, Julia secretly hands Winston a dith \n",
            "One day, Julia secretly hands Winston a for \n",
            "One day, Julia secretly hands Winston a the \n",
            "One day, Julia secretly hands Winston a was \n"
          ],
          "name": "stdout"
        }
      ]
    },
    {
      "cell_type": "markdown",
      "metadata": {
        "id": "8dVVojLRZb-V",
        "colab_type": "text"
      },
      "source": [
        "## 🏁 5. Conclusion\n",
        "\n",
        "Now, you know:\n",
        "\n",
        "1.   how to classify sequences with an RNN model (e.g. LSTM)\n",
        "2.   how to transform categorical features with one-hot encoding\n",
        "3.   to work with different parameters of the model\n",
        "\n",
        "Do not hesitate to ask questions at otorrent@mail.ru\n",
        "\n",
        "Thank you for your attention and see you next exercise session!\n",
        "\n"
      ]
    }
  ]
}