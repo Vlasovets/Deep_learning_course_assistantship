{
  "nbformat": 4,
  "nbformat_minor": 0,
  "metadata": {
    "colab": {
      "name": "layout_train.ipynb",
      "provenance": [],
      "include_colab_link": true
    },
    "kernelspec": {
      "name": "python3",
      "display_name": "Python 3"
    },
    "accelerator": "GPU"
  },
  "cells": [
    {
      "cell_type": "markdown",
      "metadata": {
        "id": "view-in-github",
        "colab_type": "text"
      },
      "source": [
        "<a href=\"https://colab.research.google.com/github/Vlasovets/Deep_learning_course_assistantship/blob/master/layout_train.ipynb\" target=\"_parent\"><img src=\"https://colab.research.google.com/assets/colab-badge.svg\" alt=\"Open In Colab\"/></a>"
      ]
    },
    {
      "cell_type": "code",
      "metadata": {
        "id": "KNza7yvgSxSX",
        "colab_type": "code",
        "colab": {
          "base_uri": "https://localhost:8080/",
          "height": 104
        },
        "outputId": "ff49e941-54c1-473f-92fa-42acb34f7105"
      },
      "source": [
        "%tensorflow_version 1.x # Oleg's code"
      ],
      "execution_count": 1,
      "outputs": [
        {
          "output_type": "stream",
          "text": [
            "`%tensorflow_version` only switches the major version: `1.x` or `2.x`.\n",
            "You set: `1.x # Oleg's code`. This will be interpreted as: `1.x`.\n",
            "\n",
            "\n",
            "TensorFlow 1.x selected.\n"
          ],
          "name": "stdout"
        }
      ]
    },
    {
      "cell_type": "code",
      "metadata": {
        "id": "VlCrbEFx2ph2",
        "colab_type": "code",
        "outputId": "14ed20cf-9398-4f57-82d2-ee946e027ab5",
        "colab": {
          "base_uri": "https://localhost:8080/",
          "height": 35
        }
      },
      "source": [
        "import os\n",
        "from tensorflow.python.keras.models import Sequential\n",
        "from tensorflow.python.keras.preprocessing.image import ImageDataGenerator\n",
        "from tensorflow.python.keras.layers import Input, Conv2D, MaxPooling2D, Activation, Dropout, Flatten, Dense\n",
        "from tensorflow.python.keras.callbacks import TensorBoard, ModelCheckpoint, EarlyStopping\n",
        "\n",
        "# Some GPUs require setting the `allow_growth` setting.\n",
        "# Comment out this code is you don't have a GPU card.\n",
        "import tensorflow.compat.v1 as tf\n",
        "config = tf.ConfigProto()\n",
        "config.gpu_options.allow_growth = True\n",
        "tf.Session(config=config)"
      ],
      "execution_count": 33,
      "outputs": [
        {
          "output_type": "execute_result",
          "data": {
            "text/plain": [
              "<tensorflow.python.client.session.Session at 0x7f183d8a73c8>"
            ]
          },
          "metadata": {
            "tags": []
          },
          "execution_count": 33
        }
      ]
    },
    {
      "cell_type": "code",
      "metadata": {
        "id": "AwGic1BFhJZh",
        "colab_type": "code",
        "colab": {}
      },
      "source": [
        "!unzip layouts-easy.zip #Oleg unzips the folder"
      ],
      "execution_count": 0,
      "outputs": []
    },
    {
      "cell_type": "code",
      "metadata": {
        "id": "e0_FV4Ls2vnH",
        "colab_type": "code",
        "outputId": "6fe0cca1-8193-4624-e3c8-d57b32016eec",
        "colab": {
          "base_uri": "https://localhost:8080/",
          "height": 35
        }
      },
      "source": [
        "IMAGE_SIZE = (200, 200)\n",
        "BATCH_SIZE = 64\n",
        "NUM_EPOCHS = 100\n",
        "\n",
        "dataset_dir = 'layouts-easy'\n",
        "trainer_dir = dataset_dir + '/train'\n",
        "\n",
        "# Specify manually the class labels, otherwise Keras will assign alphanumeric values\n",
        "# as directories are listed (in no particular order).\n",
        "dirname, class_labels, _ = next(os.walk(trainer_dir))\n",
        "print('Class labels: {}'.format(class_labels))"
      ],
      "execution_count": 36,
      "outputs": [
        {
          "output_type": "stream",
          "text": [
            "Class labels: ['Good', 'Bad']\n"
          ],
          "name": "stdout"
        }
      ]
    },
    {
      "cell_type": "code",
      "metadata": {
        "id": "A5hlRVRy2-B0",
        "colab_type": "code",
        "colab": {}
      },
      "source": [
        "# Apply some data augmentation techniques.\n",
        "image_data = ImageDataGenerator(\n",
        "    width_shift_range=0.1,\n",
        "    height_shift_range=0.1,\n",
        "    horizontal_flip=True,\n",
        "    vertical_flip=True,\n",
        "    validation_split=0.2\n",
        ")"
      ],
      "execution_count": 0,
      "outputs": []
    },
    {
      "cell_type": "code",
      "metadata": {
        "id": "AeboN4B93BTi",
        "colab_type": "code",
        "colab": {
          "base_uri": "https://localhost:8080/",
          "height": 35
        },
        "outputId": "ae010f43-2265-45c5-b54e-aa154ab4c2f6"
      },
      "source": [
        "# Use generators since we might not be able to fit all the images into memory.\n",
        "train_generator = image_data.flow_from_directory(\n",
        "    trainer_dir,\n",
        "    subset='training',\n",
        "    color_mode='grayscale',\n",
        "    target_size=IMAGE_SIZE,\n",
        "    batch_size=BATCH_SIZE,\n",
        "    class_mode='binary',\n",
        "    classes=class_labels\n",
        ")"
      ],
      "execution_count": 38,
      "outputs": [
        {
          "output_type": "stream",
          "text": [
            "Found 320 images belonging to 2 classes.\n"
          ],
          "name": "stdout"
        }
      ]
    },
    {
      "cell_type": "code",
      "metadata": {
        "id": "wX-ZGnja3CQT",
        "colab_type": "code",
        "colab": {
          "base_uri": "https://localhost:8080/",
          "height": 35
        },
        "outputId": "53987706-a1a8-4c52-f2b2-ebbcc346b99d"
      },
      "source": [
        "valid_generator = image_data.flow_from_directory(\n",
        "    trainer_dir,\n",
        "    subset='validation',\n",
        "    color_mode='grayscale',\n",
        "    target_size=IMAGE_SIZE,\n",
        "    batch_size=BATCH_SIZE,\n",
        "    class_mode='binary',\n",
        "    classes=class_labels\n",
        ")\n"
      ],
      "execution_count": 39,
      "outputs": [
        {
          "output_type": "stream",
          "text": [
            "Found 80 images belonging to 2 classes.\n"
          ],
          "name": "stdout"
        }
      ]
    },
    {
      "cell_type": "code",
      "metadata": {
        "id": "_HCh3qge3EBI",
        "colab_type": "code",
        "colab": {
          "base_uri": "https://localhost:8080/",
          "height": 471
        },
        "outputId": "eb5f1611-b8fd-4f1b-c548-782cd0777596"
      },
      "source": [
        "# Notice that images are grayscaled, therefore we have to set the number of channels to 1.\n",
        "# Image shape is `(width, height, num_channels)` in TensorFlow.\n",
        "in_shape = IMAGE_SIZE + (1,)\n",
        "\n",
        "model = Sequential()\n",
        "model.add(Conv2D(3, (3,3), activation='relu', input_shape=in_shape))\n",
        "model.add(MaxPooling2D(pool_size=(2,2)))\n",
        "model.add(Dropout(0.5))\n",
        "model.add(Flatten())\n",
        "model.add(Dense(1, activation='sigmoid'))\n",
        "model.compile(loss='binary_crossentropy', optimizer='adam', metrics=['accuracy'])\n",
        "print(model.summary())"
      ],
      "execution_count": 40,
      "outputs": [
        {
          "output_type": "stream",
          "text": [
            "WARNING:tensorflow:From /usr/local/lib/python3.6/dist-packages/tensorflow_core/python/ops/resource_variable_ops.py:1630: calling BaseResourceVariable.__init__ (from tensorflow.python.ops.resource_variable_ops) with constraint is deprecated and will be removed in a future version.\n",
            "Instructions for updating:\n",
            "If using Keras pass *_constraint arguments to layers.\n",
            "WARNING:tensorflow:From /usr/local/lib/python3.6/dist-packages/tensorflow_core/python/ops/nn_impl.py:183: where (from tensorflow.python.ops.array_ops) is deprecated and will be removed in a future version.\n",
            "Instructions for updating:\n",
            "Use tf.where in 2.0, which has the same broadcast rule as np.where\n",
            "Model: \"sequential\"\n",
            "_________________________________________________________________\n",
            "Layer (type)                 Output Shape              Param #   \n",
            "=================================================================\n",
            "conv2d (Conv2D)              (None, 198, 198, 3)       30        \n",
            "_________________________________________________________________\n",
            "max_pooling2d (MaxPooling2D) (None, 99, 99, 3)         0         \n",
            "_________________________________________________________________\n",
            "dropout (Dropout)            (None, 99, 99, 3)         0         \n",
            "_________________________________________________________________\n",
            "flatten (Flatten)            (None, 29403)             0         \n",
            "_________________________________________________________________\n",
            "dense (Dense)                (None, 1)                 29404     \n",
            "=================================================================\n",
            "Total params: 29,434\n",
            "Trainable params: 29,434\n",
            "Non-trainable params: 0\n",
            "_________________________________________________________________\n",
            "None\n"
          ],
          "name": "stdout"
        }
      ]
    },
    {
      "cell_type": "code",
      "metadata": {
        "id": "WmplUgdo3HKn",
        "colab_type": "code",
        "colab": {}
      },
      "source": [
        "# Setup some useful callbacks.\n",
        "visualizer = TensorBoard(log_dir='/tmp/layouts')\n",
        "checkpoint = ModelCheckpoint('{}-best.h5'.format(dataset_dir), monitor='val_acc', mode='max', save_best_only=True)\n",
        "earlystops = EarlyStopping(patience=10)"
      ],
      "execution_count": 0,
      "outputs": []
    },
    {
      "cell_type": "code",
      "metadata": {
        "id": "RuIZMIO03JFL",
        "colab_type": "code",
        "colab": {
          "base_uri": "https://localhost:8080/",
          "height": 1000
        },
        "outputId": "d9a2e21d-faf8-4e30-d405-6cd20addd5ef"
      },
      "source": [
        "# Train the model.\n",
        "model.fit_generator(\n",
        "    train_generator,\n",
        "    epochs=NUM_EPOCHS,\n",
        "    steps_per_epoch=train_generator.samples // BATCH_SIZE,\n",
        "    validation_data=valid_generator,\n",
        "    validation_steps=valid_generator.samples // BATCH_SIZE,\n",
        "    callbacks=[visualizer, checkpoint, earlystops]\n",
        ")"
      ],
      "execution_count": 42,
      "outputs": [
        {
          "output_type": "stream",
          "text": [
            "Epoch 1/100\n",
            "3/5 [=================>............] - ETA: 2s - loss: 465.2820 - acc: 0.4948Epoch 1/100\n",
            "5/5 [==============================] - 5s 1s/step - loss: 345.5931 - acc: 0.5281 - val_loss: 299.5660 - val_acc: 0.4688\n",
            "Epoch 2/100\n",
            "4/5 [=======================>......] - ETA: 0s - loss: 181.1607 - acc: 0.5273Epoch 1/100\n",
            "5/5 [==============================] - 3s 627ms/step - loss: 187.8827 - acc: 0.5219 - val_loss: 188.2558 - val_acc: 0.5312\n",
            "Epoch 3/100\n",
            "4/5 [=======================>......] - ETA: 0s - loss: 146.1299 - acc: 0.4766Epoch 1/100\n",
            "5/5 [==============================] - 3s 618ms/step - loss: 138.6527 - acc: 0.4969 - val_loss: 44.1428 - val_acc: 0.5156\n",
            "Epoch 4/100\n",
            "4/5 [=======================>......] - ETA: 0s - loss: 83.5408 - acc: 0.5312Epoch 1/100\n",
            "5/5 [==============================] - 3s 622ms/step - loss: 74.9140 - acc: 0.5375 - val_loss: 31.7611 - val_acc: 0.6250\n",
            "Epoch 5/100\n",
            "4/5 [=======================>......] - ETA: 0s - loss: 51.0636 - acc: 0.5781Epoch 1/100\n",
            "5/5 [==============================] - 3s 618ms/step - loss: 50.1347 - acc: 0.5906 - val_loss: 42.2773 - val_acc: 0.5469\n",
            "Epoch 6/100\n",
            "4/5 [=======================>......] - ETA: 0s - loss: 38.6392 - acc: 0.6484Epoch 1/100\n",
            "5/5 [==============================] - 3s 623ms/step - loss: 36.3287 - acc: 0.6531 - val_loss: 14.3849 - val_acc: 0.7500\n",
            "Epoch 7/100\n",
            "4/5 [=======================>......] - ETA: 0s - loss: 32.5457 - acc: 0.6289Epoch 1/100\n",
            "5/5 [==============================] - 3s 608ms/step - loss: 29.3279 - acc: 0.6469 - val_loss: 29.1910 - val_acc: 0.6406\n",
            "Epoch 8/100\n",
            "4/5 [=======================>......] - ETA: 0s - loss: 29.7179 - acc: 0.6914Epoch 1/100\n",
            "5/5 [==============================] - 3s 600ms/step - loss: 28.2153 - acc: 0.7063 - val_loss: 26.7127 - val_acc: 0.6250\n",
            "Epoch 9/100\n",
            "4/5 [=======================>......] - ETA: 0s - loss: 24.3985 - acc: 0.7305Epoch 1/100\n",
            "5/5 [==============================] - 3s 630ms/step - loss: 23.4379 - acc: 0.7344 - val_loss: 6.4858 - val_acc: 0.8125\n",
            "Epoch 10/100\n",
            "4/5 [=======================>......] - ETA: 0s - loss: 17.1562 - acc: 0.7617Epoch 1/100\n",
            "5/5 [==============================] - 3s 613ms/step - loss: 14.9267 - acc: 0.7875 - val_loss: 9.1473 - val_acc: 0.7969\n",
            "Epoch 11/100\n",
            "4/5 [=======================>......] - ETA: 0s - loss: 16.9121 - acc: 0.7734Epoch 1/100\n",
            "5/5 [==============================] - 3s 635ms/step - loss: 16.7368 - acc: 0.7750 - val_loss: 12.8190 - val_acc: 0.7656\n",
            "Epoch 12/100\n",
            "4/5 [=======================>......] - ETA: 0s - loss: 13.7581 - acc: 0.8086Epoch 1/100\n",
            "5/5 [==============================] - 3s 631ms/step - loss: 12.8017 - acc: 0.8062 - val_loss: 9.9908 - val_acc: 0.8281\n",
            "Epoch 13/100\n",
            "4/5 [=======================>......] - ETA: 0s - loss: 14.2487 - acc: 0.7891Epoch 1/100\n",
            "5/5 [==============================] - 3s 603ms/step - loss: 14.7061 - acc: 0.7812 - val_loss: 9.7780 - val_acc: 0.7500\n",
            "Epoch 14/100\n",
            "4/5 [=======================>......] - ETA: 0s - loss: 12.4389 - acc: 0.8125Epoch 1/100\n",
            "5/5 [==============================] - 3s 619ms/step - loss: 14.0654 - acc: 0.8000 - val_loss: 10.8153 - val_acc: 0.7812\n",
            "Epoch 15/100\n",
            "4/5 [=======================>......] - ETA: 0s - loss: 10.5459 - acc: 0.8320Epoch 1/100\n",
            "5/5 [==============================] - 3s 621ms/step - loss: 11.4569 - acc: 0.8375 - val_loss: 3.6574 - val_acc: 0.8281\n",
            "Epoch 16/100\n",
            "4/5 [=======================>......] - ETA: 0s - loss: 9.4211 - acc: 0.8555 Epoch 1/100\n",
            "5/5 [==============================] - 3s 649ms/step - loss: 9.9707 - acc: 0.8500 - val_loss: 8.9653 - val_acc: 0.8281\n",
            "Epoch 17/100\n",
            "4/5 [=======================>......] - ETA: 0s - loss: 15.4985 - acc: 0.8359Epoch 1/100\n",
            "5/5 [==============================] - 3s 622ms/step - loss: 14.1093 - acc: 0.8281 - val_loss: 6.3806 - val_acc: 0.8281\n",
            "Epoch 18/100\n",
            "4/5 [=======================>......] - ETA: 0s - loss: 11.6202 - acc: 0.7930Epoch 1/100\n",
            "5/5 [==============================] - 3s 620ms/step - loss: 13.2183 - acc: 0.7812 - val_loss: 9.0379 - val_acc: 0.7188\n",
            "Epoch 19/100\n",
            "4/5 [=======================>......] - ETA: 0s - loss: 7.7906 - acc: 0.8828Epoch 1/100\n",
            "5/5 [==============================] - 3s 621ms/step - loss: 7.1559 - acc: 0.8938 - val_loss: 4.8075 - val_acc: 0.8125\n",
            "Epoch 20/100\n",
            "4/5 [=======================>......] - ETA: 0s - loss: 9.0642 - acc: 0.8867Epoch 1/100\n",
            "5/5 [==============================] - 3s 633ms/step - loss: 9.4363 - acc: 0.8719 - val_loss: 8.8917 - val_acc: 0.8438\n",
            "Epoch 21/100\n",
            "4/5 [=======================>......] - ETA: 0s - loss: 8.2460 - acc: 0.8516Epoch 1/100\n",
            "5/5 [==============================] - 3s 613ms/step - loss: 9.4850 - acc: 0.8469 - val_loss: 9.2631 - val_acc: 0.7812\n",
            "Epoch 22/100\n",
            "4/5 [=======================>......] - ETA: 0s - loss: 10.9752 - acc: 0.8516Epoch 1/100\n",
            "5/5 [==============================] - 3s 619ms/step - loss: 11.3243 - acc: 0.8406 - val_loss: 7.7526 - val_acc: 0.8281\n",
            "Epoch 23/100\n",
            "4/5 [=======================>......] - ETA: 0s - loss: 8.0113 - acc: 0.8789Epoch 1/100\n",
            "5/5 [==============================] - 3s 604ms/step - loss: 7.7633 - acc: 0.8938 - val_loss: 12.5215 - val_acc: 0.8438\n",
            "Epoch 24/100\n",
            "4/5 [=======================>......] - ETA: 0s - loss: 7.0640 - acc: 0.8867Epoch 1/100\n",
            "5/5 [==============================] - 3s 657ms/step - loss: 8.4437 - acc: 0.8719 - val_loss: 8.5362 - val_acc: 0.8125\n",
            "Epoch 25/100\n",
            "4/5 [=======================>......] - ETA: 0s - loss: 6.9947 - acc: 0.8906Epoch 1/100\n",
            "5/5 [==============================] - 3s 638ms/step - loss: 6.4338 - acc: 0.8938 - val_loss: 6.7377 - val_acc: 0.8750\n"
          ],
          "name": "stdout"
        },
        {
          "output_type": "execute_result",
          "data": {
            "text/plain": [
              "<tensorflow.python.keras.callbacks.History at 0x7f183d8185f8>"
            ]
          },
          "metadata": {
            "tags": []
          },
          "execution_count": 42
        }
      ]
    },
    {
      "cell_type": "code",
      "metadata": {
        "id": "qDJcaUx23LCQ",
        "colab_type": "code",
        "colab": {
          "base_uri": "https://localhost:8080/",
          "height": 35
        },
        "outputId": "a5c870f7-49f5-4101-ae84-55a673c44920"
      },
      "source": [
        "# Report score from last epoch.\n",
        "loss, acc = model.evaluate_generator(valid_generator)\n",
        "print('Accuracy: {:.2f}%'.format(acc*100))\n",
        "\n",
        "# Finally save the model.\n",
        "model.save('{}.h5'.format(dataset_dir))"
      ],
      "execution_count": 43,
      "outputs": [
        {
          "output_type": "stream",
          "text": [
            "Accuracy: 83.75%\n"
          ],
          "name": "stdout"
        }
      ]
    }
  ]
}