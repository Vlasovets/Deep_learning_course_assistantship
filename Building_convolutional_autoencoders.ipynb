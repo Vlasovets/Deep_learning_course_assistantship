{
  "nbformat": 4,
  "nbformat_minor": 0,
  "metadata": {
    "colab": {
      "name": "Building_convolutional_autoencoders.ipynb",
      "provenance": [],
      "include_colab_link": true
    },
    "kernelspec": {
      "name": "python3",
      "display_name": "Python 3"
    },
    "accelerator": "GPU"
  },
  "cells": [
    {
      "cell_type": "markdown",
      "metadata": {
        "id": "view-in-github",
        "colab_type": "text"
      },
      "source": [
        "<a href=\"https://colab.research.google.com/github/Vlasovets/Deep_learning_course_assistantship/blob/master/Building_convolutional_autoencoders.ipynb\" target=\"_parent\"><img src=\"https://colab.research.google.com/assets/colab-badge.svg\" alt=\"Open In Colab\"/></a>"
      ]
    },
    {
      "cell_type": "markdown",
      "metadata": {
        "id": "9WJNznLSS7n7",
        "colab_type": "text"
      },
      "source": [
        "# Advanced topics in User Interfaces\n"
      ]
    },
    {
      "cell_type": "markdown",
      "metadata": {
        "id": "ihfetqWScQBS",
        "colab_type": "text"
      },
      "source": [
        "## 📢 Note\n",
        "This exercise is an extension of the previous exercise on Building Autoencoders with <font color=lightgreen>fully-connected neural layers</font>. \n",
        "\n",
        "This exercise focuses on <font color=lightpink>convolutional network</font>, and it requires understanding of some aspects have been explained in the previous exercise. It is highly recommended to start this exercise only after the previous one."
      ]
    },
    {
      "cell_type": "markdown",
      "metadata": {
        "id": "LLe74m_9b_71",
        "colab_type": "text"
      },
      "source": [
        "## 🧐 **Learning goals** \n",
        "The tutorial covers the topics explained during the lecture in the following parts:\n",
        "1.   to continue classification topic with convolutional neural networks (CNNs)\n",
        "2.   to get introduced with a simple autoencoder based on CNN\n",
        "3.   to train and test models on the Fashion-MNIST dataset\n",
        "4.   to work with different parameters of the model"
      ]
    },
    {
      "cell_type": "markdown",
      "metadata": {
        "id": "sPPNY9xsgKx8",
        "colab_type": "text"
      },
      "source": [
        "## 🔑1. Introduction\n",
        "\n",
        "### From previous exercise you know🤔\n",
        "\n",
        "\"Autoencoding\" is a data compression algorithm where the compression and decompression functions are:\n",
        "* <font color=lightgreen>Data-specific</font>\n",
        "\n",
        "* <font color=lightblue>Lossy</font>\n",
        "\n",
        "\n",
        "* <font color=lightpink>Learned automatically from examples rather than engineered by a human</font>\n",
        "\n",
        "Here, we are going to work with autoencoders based on CNN.\n"
      ]
    },
    {
      "cell_type": "code",
      "metadata": {
        "id": "QUQylUj6gefP",
        "colab_type": "code",
        "colab": {
          "base_uri": "https://localhost:8080/",
          "height": 332
        },
        "outputId": "70d1fb7d-2ba8-432e-a171-5aaeaa85cec4"
      },
      "source": [
        "from IPython.display import Image\n",
        "Image(url='https://www.researchgate.net/profile/Xifeng_Guo/publication/320658590/figure/fig1/AS:614154637418504@1523437284408/The-structure-of-proposed-Convolutional-AutoEncoders-CAE-for-MNIST-In-the-middle-there.png')"
      ],
      "execution_count": 5,
      "outputs": [
        {
          "output_type": "execute_result",
          "data": {
            "text/html": [
              "<img src=\"https://www.researchgate.net/profile/Xifeng_Guo/publication/320658590/figure/fig1/AS:614154637418504@1523437284408/The-structure-of-proposed-Convolutional-AutoEncoders-CAE-for-MNIST-In-the-middle-there.png\"/>"
            ],
            "text/plain": [
              "<IPython.core.display.Image object>"
            ]
          },
          "metadata": {
            "tags": []
          },
          "execution_count": 5
        }
      ]
    },
    {
      "cell_type": "markdown",
      "metadata": {
        "id": "8QuCrVhrjBC_",
        "colab_type": "text"
      },
      "source": [
        "### 🔨 How to build autoencoders?\n",
        "To build an autoencoder, you need three things:\n",
        "\n",
        "1) <font color=gold>encoding function</font>\n",
        "\n",
        "2) <font color=pink>decoding function</font> \n",
        "\n",
        "3) <font color=lightblue>loss function</font>\n",
        "\n",
        "If you need to refresh your knowledge about CNN you can check the slides from the lecture. \n",
        "\n",
        "In addition, there is 26min😨 video which can help you as well."
      ]
    },
    {
      "cell_type": "code",
      "metadata": {
        "id": "YUn12XavtZHb",
        "colab_type": "code",
        "colab": {
          "base_uri": "https://localhost:8080/",
          "height": 321
        },
        "outputId": "9b2b3937-89f1-4f33-a2e9-ca947ec7a1cc"
      },
      "source": [
        "from IPython.display import YouTubeVideo\n",
        "YouTubeVideo('FmpDIaiMIeA')"
      ],
      "execution_count": 28,
      "outputs": [
        {
          "output_type": "execute_result",
          "data": {
            "text/html": [
              "\n",
              "        <iframe\n",
              "            width=\"400\"\n",
              "            height=\"300\"\n",
              "            src=\"https://www.youtube.com/embed/FmpDIaiMIeA\"\n",
              "            frameborder=\"0\"\n",
              "            allowfullscreen\n",
              "        ></iframe>\n",
              "        "
            ],
            "text/plain": [
              "<IPython.lib.display.YouTubeVideo at 0x7f092ace5208>"
            ],
            "image/jpeg": "[encoded data removed]"
          },
          "metadata": {
            "tags": []
          },
          "execution_count": 28
        }
      ]
    },
    {
      "cell_type": "markdown",
      "metadata": {
        "id": "LS1g3acCjyN3",
        "colab_type": "text"
      },
      "source": [
        "## 2. 👠 Fashion-MNIST dataset\n",
        " \n",
        "Fashion-MNIST is a dataset of [Zalando’s](https://research.zalando.com/) article images consisting of a training set of 60,000 examples and a test set of 10,000 examples. Each example is a 28×28 grayscale image, associated with a label from 10 classes."
      ]
    },
    {
      "cell_type": "code",
      "metadata": {
        "id": "_Tp8RGzYj4un",
        "colab_type": "code",
        "colab": {
          "base_uri": "https://localhost:8080/",
          "height": 861
        },
        "outputId": "2b362383-da10-42dd-8ad3-be87a4085c52"
      },
      "source": [
        "from IPython.display import Image\n",
        "Image(url='https://s3-eu-central-1.amazonaws.com/zalando-wp-zalando-research-production/2017/08/fashion-mnist-sprite.png')"
      ],
      "execution_count": 6,
      "outputs": [
        {
          "output_type": "execute_result",
          "data": {
            "text/html": [
              "<img src=\"https://s3-eu-central-1.amazonaws.com/zalando-wp-zalando-research-production/2017/08/fashion-mnist-sprite.png\"/>"
            ],
            "text/plain": [
              "<IPython.core.display.Image object>"
            ]
          },
          "metadata": {
            "tags": []
          },
          "execution_count": 6
        }
      ]
    },
    {
      "cell_type": "markdown",
      "metadata": {
        "id": "wqh3r-s1jstO",
        "colab_type": "text"
      },
      "source": [
        "Imported necessary libraries to start the most exciting part.💣"
      ]
    },
    {
      "cell_type": "code",
      "metadata": {
        "id": "A_1oTPX195ad",
        "colab_type": "code",
        "colab": {}
      },
      "source": [
        "import tensorflow as tf\n",
        "import matplotlib as mpl\n",
        "import matplotlib.pyplot as plt\n",
        "import numpy as np"
      ],
      "execution_count": 0,
      "outputs": []
    },
    {
      "cell_type": "code",
      "metadata": {
        "id": "yv4Z2K5A9VVs",
        "colab_type": "code",
        "colab": {
          "base_uri": "https://localhost:8080/",
          "height": 151
        },
        "outputId": "d0f1c145-37d9-429f-9b78-f2bf03e65c9c"
      },
      "source": [
        "(X_train, y_train), (X_test, y_test) = tf.keras.datasets.fashion_mnist.load_data()"
      ],
      "execution_count": 10,
      "outputs": [
        {
          "output_type": "stream",
          "text": [
            "Downloading data from https://storage.googleapis.com/tensorflow/tf-keras-datasets/train-labels-idx1-ubyte.gz\n",
            "32768/29515 [=================================] - 0s 0us/step\n",
            "Downloading data from https://storage.googleapis.com/tensorflow/tf-keras-datasets/train-images-idx3-ubyte.gz\n",
            "26427392/26421880 [==============================] - 0s 0us/step\n",
            "Downloading data from https://storage.googleapis.com/tensorflow/tf-keras-datasets/t10k-labels-idx1-ubyte.gz\n",
            "8192/5148 [===============================================] - 0s 0us/step\n",
            "Downloading data from https://storage.googleapis.com/tensorflow/tf-keras-datasets/t10k-images-idx3-ubyte.gz\n",
            "4423680/4422102 [==============================] - 0s 0us/step\n"
          ],
          "name": "stdout"
        }
      ]
    },
    {
      "cell_type": "code",
      "metadata": {
        "id": "JwLzFPjg9zwH",
        "colab_type": "code",
        "colab": {}
      },
      "source": [
        "# Normalize pixel values so that every vector is defined in [0,1].\n",
        "X_train, X_test = X_train / 255.0, X_test / 255.0"
      ],
      "execution_count": 0,
      "outputs": []
    },
    {
      "cell_type": "code",
      "metadata": {
        "id": "Fvugcgmn-V5R",
        "colab_type": "code",
        "colab": {}
      },
      "source": [
        "# Split train partition again, so that we can use a subset for validation.\n",
        "num_val_imgs = int(0.1 * len(X_train))\n",
        "X_train, X_valid = X_train[:-num_val_imgs], X_train[-num_val_imgs:]\n",
        "y_train, y_valid = y_train[:-num_val_imgs], y_train[-num_val_imgs:]"
      ],
      "execution_count": 0,
      "outputs": []
    },
    {
      "cell_type": "code",
      "metadata": {
        "id": "jIuU5cFg-Y11",
        "colab_type": "code",
        "colab": {}
      },
      "source": [
        "# The dataset has 28x28 grayscale images.\n",
        "# Since the autoencoder we're going to build is convolutional, we have to specify the number of channels.\n",
        "IMG_SHAPE = (28, 28, 1)"
      ],
      "execution_count": 0,
      "outputs": []
    },
    {
      "cell_type": "markdown",
      "metadata": {
        "id": "7lplEi4Jkcie",
        "colab_type": "text"
      },
      "source": [
        "## ⚡ 3. Model Training\n",
        "\n",
        "### Autoencoder and CNN\n",
        "\n",
        "Remark🤓 \n",
        "\n",
        "Since our inputs are images, it makes sense to use convolutional neural networks as encoders and decoders. In practical settings, autoencoders applied to images are always convolutional autoencoders --they simply perform much better.\n",
        "\n",
        "Let's implement one to see if the statement above is correct."
      ]
    },
    {
      "cell_type": "code",
      "metadata": {
        "id": "MUqplz2o-cbN",
        "colab_type": "code",
        "colab": {}
      },
      "source": [
        "def convreshape(samples, new_shape):\n",
        "  num_samples = samples.shape[0] # equals to `len(samples)`\n",
        "  final_shape = (num_samples,) + new_shape\n",
        "  return samples.reshape(final_shape)"
      ],
      "execution_count": 0,
      "outputs": []
    },
    {
      "cell_type": "code",
      "metadata": {
        "id": "wRmpiX07-fL8",
        "colab_type": "code",
        "colab": {}
      },
      "source": [
        "X_train_conv = convreshape(X_train, IMG_SHAPE)\n",
        "X_valid_conv = convreshape(X_valid, IMG_SHAPE)\n",
        "X_test_conv = convreshape(X_test, IMG_SHAPE)"
      ],
      "execution_count": 0,
      "outputs": []
    },
    {
      "cell_type": "code",
      "metadata": {
        "id": "cnNSZJyC-gR8",
        "colab_type": "code",
        "colab": {
          "base_uri": "https://localhost:8080/",
          "height": 87
        },
        "outputId": "7f1e7e1d-e0f1-43e2-f745-5cff1e6a8436"
      },
      "source": [
        "model_input = tf.keras.layers.Input(IMG_SHAPE)"
      ],
      "execution_count": 16,
      "outputs": [
        {
          "output_type": "stream",
          "text": [
            "WARNING:tensorflow:From /usr/local/lib/python3.6/dist-packages/tensorflow_core/python/ops/resource_variable_ops.py:1630: calling BaseResourceVariable.__init__ (from tensorflow.python.ops.resource_variable_ops) with constraint is deprecated and will be removed in a future version.\n",
            "Instructions for updating:\n",
            "If using Keras pass *_constraint arguments to layers.\n"
          ],
          "name": "stdout"
        }
      ]
    },
    {
      "cell_type": "markdown",
      "metadata": {
        "id": "E3M6IrD1kxSj",
        "colab_type": "text"
      },
      "source": [
        "### Encoder 🔒 "
      ]
    },
    {
      "cell_type": "code",
      "metadata": {
        "id": "Dik4ho5EkvTm",
        "colab_type": "code",
        "colab": {}
      },
      "source": [
        "conv_encoder = tf.keras.layers.Conv2D(64, (3, 3), activation='relu', padding='same')(model_input)\n",
        "conv_encoder = tf.keras.layers.MaxPooling2D((2, 2))(conv_encoder)\n",
        "latent_layer = tf.keras.layers.Conv2D(32, (3, 3), activation='relu', padding='same')(conv_encoder)"
      ],
      "execution_count": 0,
      "outputs": []
    },
    {
      "cell_type": "markdown",
      "metadata": {
        "id": "5p501krgk2h2",
        "colab_type": "text"
      },
      "source": [
        "### Decoder 🔓\n"
      ]
    },
    {
      "cell_type": "code",
      "metadata": {
        "id": "Us9VP_aP-iTI",
        "colab_type": "code",
        "colab": {}
      },
      "source": [
        "conv_decoder = tf.keras.layers.Conv2DTranspose(32, (3, 3), activation='relu', padding='same')(latent_layer)\n",
        "conv_decoder = tf.keras.layers.Conv2DTranspose(64, (3, 3), activation='relu', strides=2, padding='same')(conv_decoder)\n",
        "model_output = tf.keras.layers.Conv2D(1, (3, 3), activation='sigmoid', padding='same')(conv_decoder)"
      ],
      "execution_count": 0,
      "outputs": []
    },
    {
      "cell_type": "markdown",
      "metadata": {
        "id": "DXIDnnaUlrvj",
        "colab_type": "text"
      },
      "source": [
        "We use Conv2DTranspose instead of UpSampling2D because Conv2DTranspose is <font color=pink>\"smart upsampling\"</font>.\n",
        "\n",
        "It is also called <font color=gold>Deconvolution</font> since the need for transposed convolutions generally arises from the desire to use a transformation going in the opposite direction of a normal convolution, i.e., from something that has the shape of the output of some convolution to something that has the shape of its input while maintaining a connectivity pattern that is compatible with said convolution. \n",
        "\n",
        "🔍 More information about convolutional layers can be found [here](https://keras.io/layers/convolutional/)."
      ]
    },
    {
      "cell_type": "code",
      "metadata": {
        "id": "lHh5Ntua-kdJ",
        "colab_type": "code",
        "colab": {
          "base_uri": "https://localhost:8080/",
          "height": 386
        },
        "outputId": "77eb66d5-da0f-4514-81f0-e4be57acec8e"
      },
      "source": [
        "# Create autoencoder model, compile it, and train it.\n",
        "conv_autoencoder = tf.keras.Model(model_input, model_output)\n",
        "conv_autoencoder.summary()"
      ],
      "execution_count": 19,
      "outputs": [
        {
          "output_type": "stream",
          "text": [
            "Model: \"model\"\n",
            "_________________________________________________________________\n",
            "Layer (type)                 Output Shape              Param #   \n",
            "=================================================================\n",
            "input_1 (InputLayer)         [(None, 28, 28, 1)]       0         \n",
            "_________________________________________________________________\n",
            "conv2d_2 (Conv2D)            (None, 28, 28, 64)        640       \n",
            "_________________________________________________________________\n",
            "max_pooling2d_1 (MaxPooling2 (None, 14, 14, 64)        0         \n",
            "_________________________________________________________________\n",
            "conv2d_3 (Conv2D)            (None, 14, 14, 32)        18464     \n",
            "_________________________________________________________________\n",
            "conv2d_transpose (Conv2DTran (None, 14, 14, 32)        9248      \n",
            "_________________________________________________________________\n",
            "conv2d_transpose_1 (Conv2DTr (None, 28, 28, 64)        18496     \n",
            "_________________________________________________________________\n",
            "conv2d_4 (Conv2D)            (None, 28, 28, 1)         577       \n",
            "=================================================================\n",
            "Total params: 47,425\n",
            "Trainable params: 47,425\n",
            "Non-trainable params: 0\n",
            "_________________________________________________________________\n"
          ],
          "name": "stdout"
        }
      ]
    },
    {
      "cell_type": "markdown",
      "metadata": {
        "id": "AF_VXKwqmuqd",
        "colab_type": "text"
      },
      "source": [
        "### 🚀 Compile and train the model\n",
        "\n",
        "Define a custom metric to monitor reconstruction accuracy, since [MSE](https://en.wikipedia.org/wiki/Mean_squared_error) is not human-friendly. \n",
        "\n",
        "Let's call it \"reconstruction accuracy\", or \"rec_acc\" for short."
      ]
    },
    {
      "cell_type": "code",
      "metadata": {
        "id": "lrlx3uyY-mFk",
        "colab_type": "code",
        "colab": {}
      },
      "source": [
        "def rec_acc(y_true, y_pred):\n",
        "    return tf.keras.metrics.binary_accuracy(tf.round(y_true), tf.round(y_pred))"
      ],
      "execution_count": 0,
      "outputs": []
    },
    {
      "cell_type": "code",
      "metadata": {
        "id": "LSkWL-K3-oQ5",
        "colab_type": "code",
        "colab": {
          "base_uri": "https://localhost:8080/",
          "height": 138
        },
        "outputId": "79284c74-d20f-4ed2-8f93-304190045dbd"
      },
      "source": [
        "conv_autoencoder.compile(loss='mse', optimizer='adam', metrics=['mse', rec_acc])\n",
        "conv_autoencoder.fit(X_train_conv, X_train_conv, epochs=2, validation_data=[X_valid_conv, X_valid_conv])"
      ],
      "execution_count": 21,
      "outputs": [
        {
          "output_type": "stream",
          "text": [
            "Train on 54000 samples, validate on 6000 samples\n",
            "Epoch 1/2\n",
            "54000/54000 [==============================] - 13s 237us/sample - loss: 0.0058 - mean_squared_error: 0.0058 - rec_acc: 0.9686 - val_loss: 0.0017 - val_mean_squared_error: 0.0017 - val_rec_acc: 0.9807\n",
            "Epoch 2/2\n",
            "54000/54000 [==============================] - 9s 168us/sample - loss: 0.0014 - mean_squared_error: 0.0014 - rec_acc: 0.9826 - val_loss: 0.0011 - val_mean_squared_error: 0.0011 - val_rec_acc: 0.9841\n"
          ],
          "name": "stdout"
        },
        {
          "output_type": "execute_result",
          "data": {
            "text/plain": [
              "<tensorflow.python.keras.callbacks.History at 0x7f09c8d48b70>"
            ]
          },
          "metadata": {
            "tags": []
          },
          "execution_count": 21
        }
      ]
    },
    {
      "cell_type": "markdown",
      "metadata": {
        "id": "IBVk3LpTm6jH",
        "colab_type": "text"
      },
      "source": [
        "As in the previous exercise, our pixel values are defined in the [0,1] range. We could use binary_crossentropy as loss function, however, let's use MSE to make the model more general."
      ]
    },
    {
      "cell_type": "markdown",
      "metadata": {
        "id": "y-ecMWAxihXK",
        "colab_type": "text"
      },
      "source": [
        "The model converges to a minimum loss significantly better than our previous models (this is in large part due to the higher entropic capacity of the encoded representation)."
      ]
    },
    {
      "cell_type": "markdown",
      "metadata": {
        "id": "7ltdUJkvnWgX",
        "colab_type": "text"
      },
      "source": [
        "💾 Finally, save the models."
      ]
    },
    {
      "cell_type": "code",
      "metadata": {
        "id": "b9gKmHb6-qUO",
        "colab_type": "code",
        "colab": {}
      },
      "source": [
        "conv_autoencoder.save('fashion_mnist-conv_autoencoder.h5')"
      ],
      "execution_count": 0,
      "outputs": []
    },
    {
      "cell_type": "markdown",
      "metadata": {
        "id": "DnHRF0l4ncOm",
        "colab_type": "text"
      },
      "source": [
        "## 💎 4. Model testing\n",
        "\n",
        "Since we work with images, it is very simple to check how good our model is. \n",
        "\n",
        "Let's pick a random item from the data we have."
      ]
    },
    {
      "cell_type": "code",
      "metadata": {
        "id": "_l4RvawE-tJE",
        "colab_type": "code",
        "colab": {}
      },
      "source": [
        "def randselect(arr, num=1):\n",
        "    num_samples = arr.shape[0]\n",
        "    rand_index = np.random.choice(num_samples, num, replace=False)\n",
        "    return arr[rand_index]"
      ],
      "execution_count": 0,
      "outputs": []
    },
    {
      "cell_type": "markdown",
      "metadata": {
        "id": "rbOa1PdWngyU",
        "colab_type": "text"
      },
      "source": [
        "The function below is <font color=red>almost</font> the same as defined in the previous exercise,\n",
        "with the difference that we enforce the image shape. \n",
        "\n",
        "In fact, we can use this function \"as is\" to display images from the autoencoder file, but not the other way around."
      ]
    },
    {
      "cell_type": "code",
      "metadata": {
        "id": "QtUIE8MM-u6s",
        "colab_type": "code",
        "colab": {
          "base_uri": "https://localhost:8080/",
          "height": 317
        },
        "outputId": "1238af76-4eda-43a9-f882-d4ed6b52097e"
      },
      "source": [
        "def show_reconstructions(model, images, num_images=10):\n",
        "    samples = images[:num_images]\n",
        "    # Better: select `num_images` at random.\n",
        "    indices = np.random.choice(images.shape[0], num_images, replace=False)\n",
        "    samples = randselect(images, num_images)\n",
        "    reconstructions = model.predict(samples)\n",
        "    # Allocate output fig size, in inches.\n",
        "    fig = plt.figure(figsize=(num_images, num_images//3))\n",
        "    for i in range(num_images):\n",
        "        # Ensure that images are read as 2D arrays.\n",
        "        img_siz = tuple(IMG_SHAPE[0:2])\n",
        "        img_src = samples[i].reshape(img_siz)\n",
        "        img_rec = reconstructions[i].reshape(img_siz)\n",
        "        # Plot original images in the top row.\n",
        "        plt.subplot(2, num_images, 1 + i)\n",
        "        plt.axis('off')\n",
        "        plt.imshow(img_src, cmap='binary')\n",
        "        # Plot reconstructed images in the bottom row.\n",
        "        plt.subplot(2, num_images, 1 + num_images + i)\n",
        "        plt.axis('off')\n",
        "        plt.imshow(img_rec, cmap='binary')\n",
        "    fig.show()\n",
        "\n",
        "show_reconstructions(conv_autoencoder, X_valid_conv)\n",
        "show_reconstructions(conv_autoencoder, X_test_conv)"
      ],
      "execution_count": 24,
      "outputs": [
        {
          "output_type": "display_data",
          "data": {
            "image/png": "[encoded data removed]",
            "text/plain": [
              "<Figure size 720x216 with 20 Axes>"
            ]
          },
          "metadata": {
            "tags": []
          }
        },
        {
          "output_type": "display_data",
          "data": {
            "image/png": "[encoded data removed]",
            "text/plain": [
              "<Figure size 720x216 with 20 Axes>"
            ]
          },
          "metadata": {
            "tags": []
          }
        }
      ]
    },
    {
      "cell_type": "markdown",
      "metadata": {
        "id": "ss4old1hoUjl",
        "colab_type": "text"
      },
      "source": [
        "As you can see CNN shows better perfomance compare to fully-connected model. It is clear which item is a dress or a bag, for example."
      ]
    },
    {
      "cell_type": "markdown",
      "metadata": {
        "id": "qWC8Q5TioYwL",
        "colab_type": "text"
      },
      "source": [
        "## 🎁 5. Bonus Exercise"
      ]
    },
    {
      "cell_type": "markdown",
      "metadata": {
        "id": "_2QP2iLXoctT",
        "colab_type": "text"
      },
      "source": [
        "#### Visualize the latent space, as we did in the previous exercise."
      ]
    },
    {
      "cell_type": "code",
      "metadata": {
        "id": "hHxpla9D-xAS",
        "colab_type": "code",
        "colab": {}
      },
      "source": [
        "from sklearn.manifold import TSNE\n",
        "\n",
        "recs = conv_autoencoder.predict(X_valid_conv)\n",
        "tsne = TSNE() # project to 2 dims by default\n",
        "\n",
        "s = recs.shape # (num_samples, width, height, num_channels)\n",
        "new_shape = (s[0], np.prod(s[1:])) # (num_samples, width * height)\n",
        "flat = recs.reshape(new_shape)\n",
        "comp = tsne.fit_transform(flat)\n",
        "# Normalize data bounds so that they fit in a [0,1] square plot.\n",
        "comp = (comp - comp.min()) / (comp.max() - comp.min())"
      ],
      "execution_count": 0,
      "outputs": []
    },
    {
      "cell_type": "code",
      "metadata": {
        "id": "KXquJcrr-z37",
        "colab_type": "code",
        "colab": {
          "base_uri": "https://localhost:8080/",
          "height": 248
        },
        "outputId": "ee6aac7a-1564-4b5f-95f0-fec07e36c939"
      },
      "source": [
        "def centroid(arr):\n",
        "    N, dims = arr.shape\n",
        "    return np.array([np.sum(arr[:, i])/N for i in range(dims)])\n",
        "\n",
        "plt.scatter(comp[:, 0], comp[:, 1], c=y_valid)\n",
        "for label in list(set(y_valid)):\n",
        "    # Gather all samples with current label.\n",
        "    indices = np.where(y_valid == label)\n",
        "    samples_orig = np.take(X_valid, indices[0], axis=0)\n",
        "    samples_comp = np.take(comp, indices[0], axis=0)\n",
        "    # Compute centroid of projected samples.\n",
        "    center = centroid(samples_comp)\n",
        "    # Display a representative image (at random) near each centroid.\n",
        "    # NB: `np.random.choice()` always returns a list, even if we request only one result.\n",
        "    sample = randselect(samples_orig)[0]\n",
        "    imgbox = mpl.offsetbox.OffsetImage(sample, cmap='binary')\n",
        "    imgpic = mpl.offsetbox.AnnotationBbox(imgbox, center, frameon=False)\n",
        "    plt.gca().add_artist(imgpic)\n",
        "\n",
        "plt.axis('off')\n",
        "plt.show()"
      ],
      "execution_count": 27,
      "outputs": [
        {
          "output_type": "display_data",
          "data": {
            "image/png": "[encoded data removed]",
            "text/plain": [
              "<Figure size 432x288 with 1 Axes>"
            ]
          },
          "metadata": {
            "tags": []
          }
        }
      ]
    },
    {
      "cell_type": "markdown",
      "metadata": {
        "id": "aLm-30HUo7Gl",
        "colab_type": "text"
      },
      "source": [
        "To sum up, as you can see we have clusters of different items grouped by the category.\n",
        "\n",
        "The results are much better comparing to the fully-connected model, the item segmentation is more clear. \n",
        "\n",
        "For instance, we see an 'island' of different types of shoes 🥾 in the right bottom corner, different types of dresses 👗 , shirts👕 , and jackets🧥 around the center. Also, pants👖 and bags👜 are far away from other groups"
      ]
    },
    {
      "cell_type": "markdown",
      "metadata": {
        "id": "yp_EC1HEo3Lt",
        "colab_type": "text"
      },
      "source": [
        "## 🏁 6. Conclusion\n",
        "\n",
        "Now, you know:\n",
        "\n",
        "1.   CNN models for image classification problem\n",
        "2.   different types of convolutional layers\n",
        "3.   how to use Fashion-MNIST dataset for your projects\n",
        "4.   how to work with different parameters of the model\n",
        "5.   how to flatten the data and visualize model results\n",
        "\n",
        "Do not hesitate to ask questions at otorrent@mail.ru\n",
        "\n",
        "Thank you for your attention and see you next exercise session!"
      ]
    }
  ]
}